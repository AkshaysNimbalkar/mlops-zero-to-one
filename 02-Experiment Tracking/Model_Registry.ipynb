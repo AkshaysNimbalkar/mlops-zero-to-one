{
 "cells": [
  {
   "cell_type": "code",
   "execution_count": 17,
   "metadata": {},
   "outputs": [
    {
     "name": "stdout",
     "output_type": "stream",
     "text": [
      "ID: 2, Name: test, Status: deleted\n",
      "ID: 1, Name: nyc-taxi-expirement, Status: active\n",
      "ID: 0, Name: Default, Status: active\n"
     ]
    }
   ],
   "source": [
    "import mlflow\n",
    "from mlflow.tracking import MlflowClient\n",
    "from mlflow.entities import ViewType\n",
    "\n",
    "# Set the tracking URI to your SQLite database\n",
    "mlflow.set_tracking_uri(\"sqlite:///mlflow.db\")\n",
    "\n",
    "# Initialize the client\n",
    "client = MlflowClient()\n",
    "\n",
    "# List all experiments using the fluent API\n",
    "experiments = mlflow.search_experiments(view_type=ViewType.ALL)\n",
    "\n",
    "# Print the list of experiments\n",
    "for experiment in experiments:\n",
    "    print(f\"ID: {experiment.experiment_id}, Name: {experiment.name}, Status: {experiment.lifecycle_stage}\")\n"
   ]
  },
  {
   "cell_type": "code",
   "execution_count": 20,
   "metadata": {},
   "outputs": [
    {
     "name": "stdout",
     "output_type": "stream",
     "text": [
      "ID: 2, Name: test, Status: deleted\n",
      "ID: 1, Name: nyc-taxi-expirement, Status: active\n",
      "ID: 0, Name: Default, Status: active\n"
     ]
    }
   ],
   "source": [
    "from mlflow.tracking import MlflowClient\n",
    "\n",
    "# Initialize the client\n",
    "client = MlflowClient(tracking_uri=\"sqlite:///mlflow.db\")\n",
    "\n",
    "# List all experiments using the fluent API\n",
    "experiments = client.search_experiments(view_type=ViewType.ALL)\n",
    "\n",
    "# Print the list of experiments\n",
    "for experiment in experiments:\n",
    "    print(f\"ID: {experiment.experiment_id}, Name: {experiment.name}, Status: {experiment.lifecycle_stage}\")\n"
   ]
  },
  {
   "cell_type": "code",
   "execution_count": 21,
   "metadata": {},
   "outputs": [
    {
     "data": {
      "text/plain": [
       "'3'"
      ]
     },
     "execution_count": 21,
     "metadata": {},
     "output_type": "execute_result"
    }
   ],
   "source": [
    "client.create_experiment(name=\"my-cool-experiment\")"
   ]
  },
  {
   "cell_type": "code",
   "execution_count": 23,
   "metadata": {},
   "outputs": [],
   "source": [
    "from mlflow.entities import ViewType\n",
    "\n",
    "runs = client.search_runs(experiment_ids = '1',\n",
    "                    filter_string = \"\",\n",
    "                    run_view_type = ViewType.ACTIVE_ONLY,\n",
    "                    max_results = 5,\n",
    "                    order_by = [\"metrics.rmse ASC\"]\n",
    ")"
   ]
  },
  {
   "cell_type": "code",
   "execution_count": 24,
   "metadata": {},
   "outputs": [
    {
     "name": "stdout",
     "output_type": "stream",
     "text": [
      "run id: 08b12a688db84694a3f14a34f59747b5, rmse: 6.3569\n",
      "run id: c8462f1cccd143dbad205dec0f3fcfd3, rmse: 6.4039\n",
      "run id: 1a4206615af9476ba4a6a81d9745a9c7, rmse: 6.4144\n",
      "run id: 0562718ba82d4d089d9ccfbd0ce78911, rmse: 6.4942\n",
      "run id: 733ced4edcc34866b16a7b283e73dc8f, rmse: 6.5007\n"
     ]
    }
   ],
   "source": [
    "for run in runs:\n",
    "    print(f\"run id: {run.info.run_id}, rmse: {run.data.metrics['rmse']:.4f}\")"
   ]
  },
  {
   "cell_type": "code",
   "execution_count": 25,
   "metadata": {},
   "outputs": [],
   "source": [
    "# Register a model\n",
    "\n",
    "import mlflow\n",
    "mlflow.set_tracking_uri(\"sqlite:///mlflow.db\")"
   ]
  },
  {
   "cell_type": "code",
   "execution_count": 28,
   "metadata": {},
   "outputs": [
    {
     "name": "stderr",
     "output_type": "stream",
     "text": [
      "Registered model 'nyc-taxi-regressor' already exists. Creating a new version of this model...\n",
      "Created version '1' of model 'nyc-taxi-regressor'.\n"
     ]
    },
    {
     "data": {
      "text/plain": [
       "<ModelVersion: aliases=[], creation_timestamp=1717443621262, current_stage='None', description=None, last_updated_timestamp=1717443621262, name='nyc-taxi-regressor', run_id='08b12a688db84694a3f14a34f59747b5', run_link=None, source=('/workspaces/mlops-zero-to-one/02-Experiment '\n",
       " 'Tracking/mlruns/1/08b12a688db84694a3f14a34f59747b5/artifacts/model'), status='READY', status_message=None, tags={}, user_id=None, version=1>"
      ]
     },
     "execution_count": 28,
     "metadata": {},
     "output_type": "execute_result"
    }
   ],
   "source": [
    "run_id = \"08b12a688db84694a3f14a34f59747b5\"\n",
    "model_uri = f\"runs:/{run_id}/model\"\n",
    "mlflow.register_model(model_uri= model_uri, name=\"nyc-taxi-regressor\")"
   ]
  },
  {
   "cell_type": "code",
   "execution_count": 29,
   "metadata": {},
   "outputs": [
    {
     "data": {
      "text/plain": [
       "'runs:/08b12a688db84694a3f14a34f59747b5/model'"
      ]
     },
     "execution_count": 29,
     "metadata": {},
     "output_type": "execute_result"
    }
   ],
   "source": [
    "model_uri"
   ]
  },
  {
   "cell_type": "code",
   "execution_count": 33,
   "metadata": {},
   "outputs": [
    {
     "name": "stdout",
     "output_type": "stream",
     "text": [
      "version:1, aliases:[]\n"
     ]
    },
    {
     "name": "stderr",
     "output_type": "stream",
     "text": [
      "C:\\Users\\aksha\\AppData\\Local\\Temp\\ipykernel_15068\\2951549860.py:2: FutureWarning: ``mlflow.tracking.client.MlflowClient.get_latest_versions`` is deprecated since 2.9.0. Model registry stages will be removed in a future major release. To learn more about the deprecation of model registry stages, see our migration guide here: https://mlflow.org/docs/2.13.0/model-registry.html#migrating-from-stages\n",
      "  latest_versions = client.get_latest_versions(name=model_name)\n"
     ]
    }
   ],
   "source": [
    "model_name = \"nyc-taxi-regressor\"\n",
    "latest_versions = client.get_latest_versions(name=model_name)\n",
    "\n",
    "for version in latest_versions:\n",
    "    print(f\"version:{version.version}, aliases:{version.aliases}\")"
   ]
  },
  {
   "cell_type": "code",
   "execution_count": 37,
   "metadata": {},
   "outputs": [
    {
     "name": "stdout",
     "output_type": "stream",
     "text": [
      "Aliases ['production'] have been added to model nyc-taxi-regressor version 1.\n"
     ]
    }
   ],
   "source": [
    "# Add aliases to the model version\n",
    "aliases_to_add = [\"production\"]\n",
    "model_version = 1\n",
    "for alias in aliases_to_add:\n",
    "    client.set_registered_model_alias(name=model_name, alias=alias, version=model_version)\n",
    "print(f\"Aliases {aliases_to_add} have been added to model {model_name} version {model_version}.\")\n",
    "\n"
   ]
  },
  {
   "cell_type": "code",
   "execution_count": 38,
   "metadata": {},
   "outputs": [
    {
     "name": "stdout",
     "output_type": "stream",
     "text": [
      "Tags {'stage': 'production', 'version_note': 'latest stable version'} have been added to model nyc-taxi-regressor version 1.\n"
     ]
    }
   ],
   "source": [
    "# Define the tags to add or update\n",
    "tags_to_add = {\"stage\": \"production\", \"version_note\": \"latest stable version\"}\n",
    "\n",
    "for key, value in tags_to_add.items():\n",
    "    client.set_model_version_tag(name=model_name, version=model_version, key=key, value=value)\n",
    "print(f\"Tags {tags_to_add} have been added to model {model_name} version {model_version}.\")\n"
   ]
  },
  {
   "cell_type": "code",
   "execution_count": 39,
   "metadata": {},
   "outputs": [
    {
     "name": "stdout",
     "output_type": "stream",
     "text": [
      "Description for model nyc-taxi-regressor version 1 has been set.\n"
     ]
    }
   ],
   "source": [
    "# Set description for the model version\n",
    "description = \"This is the latest stable version of the model, now in production.\"\n",
    "client.update_model_version(name=model_name, version=model_version, description=description)\n",
    "\n",
    "print(f\"Description for model {model_name} version {model_version} has been set.\")"
   ]
  },
  {
   "cell_type": "markdown",
   "metadata": {},
   "source": [
    "Comparing versions and selecting the new \"Production\" model\n",
    "In the last section, we will retrieve models registered in the model registry and compare their performance on an unseen test set. The idea is to simulate the scenario in which a deployment engineer has to interact with the model registry to decide whether to update the model version that is in production or not.\n",
    "\n",
    "These are the steps:\n",
    "\n",
    "Load the test dataset, which corresponds to the NYC Green Taxi data from the month of March 2021.\n",
    "Download the DictVectorizer that was fitted using the training data and saved to MLflow as an artifact, and load it with pickle.\n",
    "Preprocess the test set using the DictVectorizer so we can properly feed the regressors.\n",
    "Make predictions on the test set using the model versions that are currently in the \"Staging\" and \"Production\" stages, and compare their performance.\n",
    "Based on the results, update the \"Production\" model version accordingly.\n",
    "Note: the model registry doesn't actually deploy the model to production when you transition a model to the \"Production\" stage, it just assign a label to that model version. You should complement the registry with some CI/CD code that does the actual deployment."
   ]
  }
 ],
 "metadata": {
  "kernelspec": {
   "display_name": "exp-tracking-env",
   "language": "python",
   "name": "python3"
  },
  "language_info": {
   "codemirror_mode": {
    "name": "ipython",
    "version": 3
   },
   "file_extension": ".py",
   "mimetype": "text/x-python",
   "name": "python",
   "nbconvert_exporter": "python",
   "pygments_lexer": "ipython3",
   "version": "3.12.3"
  }
 },
 "nbformat": 4,
 "nbformat_minor": 2
}
