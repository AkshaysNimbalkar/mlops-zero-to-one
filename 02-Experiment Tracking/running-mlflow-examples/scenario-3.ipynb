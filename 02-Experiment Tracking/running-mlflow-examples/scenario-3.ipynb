{
 "cells": [
  {
   "cell_type": "code",
   "execution_count": 1,
   "metadata": {},
   "outputs": [
    {
     "name": "stderr",
     "output_type": "stream",
     "text": [
      "2024/06/06 14:51:34 INFO mlflow.tracking.fluent: Experiment with name 'my-new-s3-bucket' does not exist. Creating a new experiment.\n"
     ]
    },
    {
     "name": "stdout",
     "output_type": "stream",
     "text": [
      "default artifacts URI: 's3://mlflow-scenario-exp-tracking/5/da4ee26b394f49ff8a93f46309087536/artifacts'\n"
     ]
    }
   ],
   "source": [
    "from sklearn.linear_model import LogisticRegression\n",
    "from sklearn.datasets import load_iris\n",
    "from sklearn.metrics import accuracy_score\n",
    "import os\n",
    "import mlflow\n",
    "import mlflow.sklearn\n",
    "import boto3\n",
    "\n",
    "\n",
    "\n",
    "\n",
    "# Set AWS credentials and region directly\n",
    "aws_access_key_id = ''\n",
    "aws_secret_access_key = ''\n",
    "aws_region = ''  # replace with your region\n",
    "\n",
    "\n",
    "session = boto3.Session(\n",
    "    aws_access_key_id=aws_access_key_id,\n",
    "    aws_secret_access_key=aws_secret_access_key,\n",
    "    region_name=aws_region\n",
    ")\n",
    "\n",
    "# Set environment variables for AWS credentials and region\n",
    "os.environ[\"AWS_ACCESS_KEY_ID\"] = aws_access_key_id\n",
    "os.environ[\"AWS_SECRET_ACCESS_KEY\"] = aws_secret_access_key\n",
    "os.environ[\"AWS_DEFAULT_REGION\"] = aws_region\n",
    "\n",
    "\n",
    "# Set the S3 bucket as the default artifact root\n",
    "s3_bucket = 'mlflow-scenario-exp-tracking'\n",
    "mlflow.set_tracking_uri(\"url\")  # replace with your MLflow tracking server URI if different\n",
    "mlflow.set_experiment(\"my-new-s3-bucket\")  # set your experiment name\n",
    "\n",
    "\n",
    "with mlflow.start_run():\n",
    "\n",
    "    X, y = load_iris(return_X_y=True)\n",
    "\n",
    "    params = {\"C\": 0.1, \"random_state\": 42}\n",
    "    mlflow.log_params(params)\n",
    "\n",
    "    lr = LogisticRegression(**params).fit(X, y)\n",
    "    y_pred = lr.predict(X)\n",
    "    mlflow.log_metric(\"accuracy\", accuracy_score(y, y_pred))\n",
    "\n",
    "    print(f\"default artifacts URI: '{mlflow.get_artifact_uri()}'\")\n",
    "    mlflow.sklearn.log_model(lr, artifact_path=\"models\")\n"
   ]
  },
  {
   "cell_type": "code",
   "execution_count": 3,
   "metadata": {},
   "outputs": [
    {
     "data": {
      "text/plain": [
       "[<Experiment: artifact_location='s3://mlflow-scenario-exp-tracking/5', creation_time=1717671094460, experiment_id='5', last_update_time=1717671094460, lifecycle_stage='active', name='my-new-s3-bucket', tags={}>,\n",
       " <Experiment: artifact_location='s3://mlflow-scenario-exp-tracking/4', creation_time=1717669874891, experiment_id='4', last_update_time=1717669874891, lifecycle_stage='active', name='my-scenario-news3bucket', tags={}>,\n",
       " <Experiment: artifact_location='s3://exp-mlflow-artifacts-bucket/3', creation_time=1717668732842, experiment_id='3', last_update_time=1717668732842, lifecycle_stage='active', name='my-experiment-scenario3', tags={}>,\n",
       " <Experiment: artifact_location='s3://mlflow-artifacts-bucket/2', creation_time=1717663857220, experiment_id='2', last_update_time=1717663857220, lifecycle_stage='active', name='my-experiment-1', tags={}>,\n",
       " <Experiment: artifact_location='s3://mlflow-artifacts-bucket/1', creation_time=1717663577118, experiment_id='1', last_update_time=1717663577118, lifecycle_stage='active', name='my-experiment', tags={}>,\n",
       " <Experiment: artifact_location='s3://mlflow-artifacts-bucket/0', creation_time=1717662550317, experiment_id='0', last_update_time=1717662550317, lifecycle_stage='active', name='Default', tags={}>]"
      ]
     },
     "execution_count": 3,
     "metadata": {},
     "output_type": "execute_result"
    }
   ],
   "source": [
    "mlflow.search_experiments()\n"
   ]
  },
  {
   "cell_type": "markdown",
   "metadata": {},
   "source": [
    "Interacting with the model registry"
   ]
  },
  {
   "cell_type": "code",
   "execution_count": 4,
   "metadata": {},
   "outputs": [],
   "source": [
    "from mlflow.tracking import MlflowClient\n",
    "\n",
    "\n",
    "client = MlflowClient(f\"http://{\"url\"}:5000\")"
   ]
  },
  {
   "cell_type": "code",
   "execution_count": 6,
   "metadata": {},
   "outputs": [
    {
     "data": {
      "text/plain": [
       "[]"
      ]
     },
     "execution_count": 6,
     "metadata": {},
     "output_type": "execute_result"
    }
   ],
   "source": [
    "client.search_registered_models()"
   ]
  },
  {
   "cell_type": "code",
   "execution_count": 7,
   "metadata": {},
   "outputs": [
    {
     "name": "stderr",
     "output_type": "stream",
     "text": [
      "Successfully registered model 'iris-classifier'.\n",
      "2024/06/06 15:04:00 INFO mlflow.store.model_registry.abstract_store: Waiting up to 300 seconds for model version to finish creation. Model name: iris-classifier, version 1\n",
      "Created version '1' of model 'iris-classifier'.\n"
     ]
    },
    {
     "data": {
      "text/plain": [
       "<ModelVersion: aliases=[], creation_timestamp=1717671839484, current_stage='None', description='', last_updated_timestamp=1717671839484, name='iris-classifier', run_id='da4ee26b394f49ff8a93f46309087536', run_link='', source='s3://mlflow-scenario-exp-tracking/5/da4ee26b394f49ff8a93f46309087536/artifacts/models', status='READY', status_message='', tags={}, user_id='', version='1'>"
      ]
     },
     "execution_count": 7,
     "metadata": {},
     "output_type": "execute_result"
    }
   ],
   "source": [
    "run_id = client.search_runs(experiment_ids='5')[0].info.run_id\n",
    "\n",
    "mlflow.register_model(\n",
    "    model_uri=f\"runs:/{run_id}/models\",\n",
    "    name='iris-classifier'\n",
    ")"
   ]
  }
 ],
 "metadata": {
  "kernelspec": {
   "display_name": "exp-tracking-env",
   "language": "python",
   "name": "python3"
  },
  "language_info": {
   "codemirror_mode": {
    "name": "ipython",
    "version": 3
   },
   "file_extension": ".py",
   "mimetype": "text/x-python",
   "name": "python",
   "nbconvert_exporter": "python",
   "pygments_lexer": "ipython3",
   "version": "3.12.3"
  }
 },
 "nbformat": 4,
 "nbformat_minor": 2
}
